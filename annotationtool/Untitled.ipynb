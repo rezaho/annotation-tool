{
 "cells": [
  {
   "cell_type": "code",
   "execution_count": 1,
   "metadata": {},
   "outputs": [],
   "source": [
    "%config Completer.use_jedi = False"
   ]
  },
  {
   "cell_type": "code",
   "execution_count": 2,
   "metadata": {},
   "outputs": [],
   "source": [
    "import os\n",
    "\n",
    "os.environ[\"DJANGO_ALLOW_ASYNC_UNSAFE\"] = \"true\""
   ]
  },
  {
   "cell_type": "code",
   "execution_count": 3,
   "metadata": {},
   "outputs": [],
   "source": [
    "from api.models import ProjectModel"
   ]
  },
  {
   "cell_type": "code",
   "execution_count": 80,
   "metadata": {},
   "outputs": [],
   "source": [
    "project = ProjectModel.objects.filter(pk=1)[0]"
   ]
  },
  {
   "cell_type": "code",
   "execution_count": 11,
   "metadata": {
    "collapsed": true,
    "jupyter": {
     "outputs_hidden": true
    }
   },
   "outputs": [
    {
     "data": {
      "text/plain": [
       "['DEFAULT_CHUNK_SIZE',\n",
       " '__bool__',\n",
       " '__class__',\n",
       " '__delattr__',\n",
       " '__dict__',\n",
       " '__dir__',\n",
       " '__doc__',\n",
       " '__enter__',\n",
       " '__eq__',\n",
       " '__exit__',\n",
       " '__format__',\n",
       " '__ge__',\n",
       " '__getattribute__',\n",
       " '__getstate__',\n",
       " '__gt__',\n",
       " '__hash__',\n",
       " '__init__',\n",
       " '__init_subclass__',\n",
       " '__iter__',\n",
       " '__le__',\n",
       " '__len__',\n",
       " '__lt__',\n",
       " '__module__',\n",
       " '__ne__',\n",
       " '__new__',\n",
       " '__reduce__',\n",
       " '__reduce_ex__',\n",
       " '__repr__',\n",
       " '__setattr__',\n",
       " '__setstate__',\n",
       " '__sizeof__',\n",
       " '__str__',\n",
       " '__subclasshook__',\n",
       " '__weakref__',\n",
       " '_committed',\n",
       " '_del_file',\n",
       " '_file',\n",
       " '_get_file',\n",
       " '_require_file',\n",
       " '_set_file',\n",
       " 'chunks',\n",
       " 'close',\n",
       " 'closed',\n",
       " 'delete',\n",
       " 'encoding',\n",
       " 'field',\n",
       " 'file',\n",
       " 'fileno',\n",
       " 'flush',\n",
       " 'instance',\n",
       " 'isatty',\n",
       " 'multiple_chunks',\n",
       " 'name',\n",
       " 'newlines',\n",
       " 'open',\n",
       " 'path',\n",
       " 'read',\n",
       " 'readable',\n",
       " 'readinto',\n",
       " 'readline',\n",
       " 'readlines',\n",
       " 'save',\n",
       " 'seek',\n",
       " 'seekable',\n",
       " 'size',\n",
       " 'storage',\n",
       " 'tell',\n",
       " 'truncate',\n",
       " 'url',\n",
       " 'writable',\n",
       " 'write',\n",
       " 'writelines']"
      ]
     },
     "execution_count": 11,
     "metadata": {},
     "output_type": "execute_result"
    }
   ],
   "source": [
    "dir(project.output_data)"
   ]
  },
  {
   "cell_type": "code",
   "execution_count": 81,
   "metadata": {},
   "outputs": [],
   "source": [
    "with project.output_data.open(mode='w'):\n",
    "    project.output_data.write(\"\")\n",
    "#     content = project.output_data.readlines()"
   ]
  },
  {
   "cell_type": "code",
   "execution_count": 82,
   "metadata": {},
   "outputs": [
    {
     "data": {
      "text/plain": [
       "(1, 1)"
      ]
     },
     "execution_count": 82,
     "metadata": {},
     "output_type": "execute_result"
    }
   ],
   "source": [
    "project.nb_processed, project.nb_rejected"
   ]
  },
  {
   "cell_type": "code",
   "execution_count": 83,
   "metadata": {},
   "outputs": [],
   "source": [
    "project.nb_processed=0\n",
    "project.nb_rejected=0\n",
    "project.save(update_fields=[\"nb_processed\", \"nb_rejected\"])"
   ]
  },
  {
   "cell_type": "code",
   "execution_count": 84,
   "metadata": {},
   "outputs": [
    {
     "data": {
      "text/plain": [
       "True"
      ]
     },
     "execution_count": 84,
     "metadata": {},
     "output_type": "execute_result"
    }
   ],
   "source": [
    "project.output_data.closed"
   ]
  },
  {
   "cell_type": "code",
   "execution_count": 39,
   "metadata": {},
   "outputs": [
    {
     "data": {
      "text/plain": [
       "False"
      ]
     },
     "execution_count": 39,
     "metadata": {},
     "output_type": "execute_result"
    }
   ],
   "source": [
    "True if project.input_data else False"
   ]
  },
  {
   "cell_type": "code",
   "execution_count": 40,
   "metadata": {},
   "outputs": [],
   "source": [
    "import json"
   ]
  },
  {
   "cell_type": "code",
   "execution_count": 52,
   "metadata": {},
   "outputs": [],
   "source": [
    "with open(\"./frontend-build/src//components/test.json\", \"r\", encoding=\"utf-8\") as file:\n",
    "    annot_text = json.load(file)"
   ]
  },
  {
   "cell_type": "code",
   "execution_count": 53,
   "metadata": {
    "collapsed": true,
    "jupyter": {
     "outputs_hidden": true
    }
   },
   "outputs": [
    {
     "name": "stdout",
     "output_type": "stream",
     "text": [
      "{\n",
      "   \"text\": \"Writers From the Right and Left on Trump Jr., the Future of the F.B.I., Health Care and More\",\n",
      "   \"meta\": {\n",
      "      \"source\": \"The New York Times\"\n",
      "   },\n",
      "   \"_input_hash\": -584314991,\n",
      "   \"_task_hash\": -1697033735,\n",
      "   \"tokens\": [\n",
      "      {\n",
      "         \"text\": \"Writers\",\n",
      "         \"start\": 0,\n",
      "         \"end\": 7,\n",
      "         \"id\": 0\n",
      "      },\n",
      "      {\n",
      "         \"text\": \"From\",\n",
      "         \"start\": 8,\n",
      "         \"end\": 12,\n",
      "         \"id\": 1\n",
      "      },\n",
      "      {\n",
      "         \"text\": \"the\",\n",
      "         \"start\": 13,\n",
      "         \"end\": 16,\n",
      "         \"id\": 2\n",
      "      },\n",
      "      {\n",
      "         \"text\": \"Right\",\n",
      "         \"start\": 17,\n",
      "         \"end\": 22,\n",
      "         \"id\": 3\n",
      "      },\n",
      "      {\n",
      "         \"text\": \"and\",\n",
      "         \"start\": 23,\n",
      "         \"end\": 26,\n",
      "         \"id\": 4\n",
      "      },\n",
      "      {\n",
      "         \"text\": \"Left\",\n",
      "         \"start\": 27,\n",
      "         \"end\": 31,\n",
      "         \"id\": 5\n",
      "      },\n",
      "      {\n",
      "         \"text\": \"on\",\n",
      "         \"start\": 32,\n",
      "         \"end\": 34,\n",
      "         \"id\": 6\n",
      "      },\n",
      "      {\n",
      "         \"text\": \"Trump\",\n",
      "         \"start\": 35,\n",
      "         \"end\": 40,\n",
      "         \"id\": 7\n",
      "      },\n",
      "      {\n",
      "         \"text\": \"Jr.\",\n",
      "         \"start\": 41,\n",
      "         \"end\": 44,\n",
      "         \"id\": 8\n",
      "      },\n",
      "      {\n",
      "         \"text\": \",\",\n",
      "         \"start\": 44,\n",
      "         \"end\": 45,\n",
      "         \"id\": 9\n",
      "      },\n",
      "      {\n",
      "         \"text\": \"the\",\n",
      "         \"start\": 46,\n",
      "         \"end\": 49,\n",
      "         \"id\": 10\n",
      "      },\n",
      "      {\n",
      "         \"text\": \"Future\",\n",
      "         \"start\": 50,\n",
      "         \"end\": 56,\n",
      "         \"id\": 11\n",
      "      },\n",
      "      {\n",
      "         \"text\": \"of\",\n",
      "         \"start\": 57,\n",
      "         \"end\": 59,\n",
      "         \"id\": 12\n",
      "      },\n",
      "      {\n",
      "         \"text\": \"the\",\n",
      "         \"start\": 60,\n",
      "         \"end\": 63,\n",
      "         \"id\": 13\n",
      "      },\n",
      "      {\n",
      "         \"text\": \"F.B.I.\",\n",
      "         \"start\": 64,\n",
      "         \"end\": 70,\n",
      "         \"id\": 14\n",
      "      },\n",
      "      {\n",
      "         \"text\": \",\",\n",
      "         \"start\": 70,\n",
      "         \"end\": 71,\n",
      "         \"id\": 15\n",
      "      },\n",
      "      {\n",
      "         \"text\": \"Health\",\n",
      "         \"start\": 72,\n",
      "         \"end\": 78,\n",
      "         \"id\": 16\n",
      "      },\n",
      "      {\n",
      "         \"text\": \"Care\",\n",
      "         \"start\": 79,\n",
      "         \"end\": 83,\n",
      "         \"id\": 17\n",
      "      },\n",
      "      {\n",
      "         \"text\": \"and\",\n",
      "         \"start\": 84,\n",
      "         \"end\": 87,\n",
      "         \"id\": 18\n",
      "      },\n",
      "      {\n",
      "         \"text\": \"More\",\n",
      "         \"start\": 88,\n",
      "         \"end\": 92,\n",
      "         \"id\": 19\n",
      "      }\n",
      "   ],\n",
      "   \"_session_id\": null,\n",
      "   \"_view_id\": \"ner_manual\",\n",
      "   \"spans\": [\n",
      "      {\n",
      "         \"start\": 35,\n",
      "         \"end\": 44,\n",
      "         \"token_start\": 7,\n",
      "         \"token_end\": 8,\n",
      "         \"label\": \"PERSON\"\n",
      "      },\n",
      "      {\n",
      "         \"start\": 64,\n",
      "         \"end\": 70,\n",
      "         \"token_start\": 14,\n",
      "         \"token_end\": 14,\n",
      "         \"label\": \"ORG\"\n",
      "      }\n",
      "   ],\n",
      "   \"answer\": \"accept\"\n",
      "}\n"
     ]
    }
   ],
   "source": [
    "print(json.dumps(annot_text, indent=3))"
   ]
  },
  {
   "cell_type": "code",
   "execution_count": 1,
   "metadata": {},
   "outputs": [],
   "source": [
    "# Construction 1\n",
    "from spacy.tokenizer import Tokenizer\n",
    "from spacy.lang.en import English\n",
    "nlp = English()\n",
    "# Create a blank Tokenizer with just the English vocab\n",
    "tokenizer = Tokenizer(nlp.vocab)\n",
    "\n",
    "# Construction 2\n",
    "from spacy.lang.en import English\n",
    "nlp = English()\n",
    "# Create a Tokenizer with the default settings for English\n",
    "# including punctuation rules and exceptions\n",
    "tokenizer = nlp.Defaults.create_tokenizer(nlp)"
   ]
  },
  {
   "cell_type": "code",
   "execution_count": 7,
   "metadata": {},
   "outputs": [],
   "source": [
    "sentence = \"When Sebastian Thrun started working on self-driving cars at Google in 2007, few people outside of the company took him seriously.\"\n",
    "tokens = tokenizer(sentence)"
   ]
  },
  {
   "cell_type": "code",
   "execution_count": 28,
   "metadata": {},
   "outputs": [],
   "source": [
    "tokens_json = tokens.to_json()"
   ]
  },
  {
   "cell_type": "code",
   "execution_count": 29,
   "metadata": {},
   "outputs": [],
   "source": [
    "for i, tok in enumerate(tokens_json.copy()[\"tokens\"]):\n",
    "    tokens_json[\"tokens\"][i][\"text\"] = tokens.text[tok['start']:tok[\"end\"]]"
   ]
  },
  {
   "cell_type": "code",
   "execution_count": 34,
   "metadata": {},
   "outputs": [
    {
     "data": {
      "text/plain": [
       "{'text': 'When Sebastian Thrun started working on self-driving cars at Google in 2007, few people outside of the company took him seriously.',\n",
       " 'tokens': [{'id': 0, 'start': 0, 'end': 4, 'text': 'When'},\n",
       "  {'id': 1, 'start': 5, 'end': 14, 'text': 'Sebastian'},\n",
       "  {'id': 2, 'start': 15, 'end': 20, 'text': 'Thrun'},\n",
       "  {'id': 3, 'start': 21, 'end': 28, 'text': 'started'},\n",
       "  {'id': 4, 'start': 29, 'end': 36, 'text': 'working'},\n",
       "  {'id': 5, 'start': 37, 'end': 39, 'text': 'on'},\n",
       "  {'id': 6, 'start': 40, 'end': 44, 'text': 'self'},\n",
       "  {'id': 7, 'start': 44, 'end': 45, 'text': '-'},\n",
       "  {'id': 8, 'start': 45, 'end': 52, 'text': 'driving'},\n",
       "  {'id': 9, 'start': 53, 'end': 57, 'text': 'cars'},\n",
       "  {'id': 10, 'start': 58, 'end': 60, 'text': 'at'},\n",
       "  {'id': 11, 'start': 61, 'end': 67, 'text': 'Google'},\n",
       "  {'id': 12, 'start': 68, 'end': 70, 'text': 'in'},\n",
       "  {'id': 13, 'start': 71, 'end': 75, 'text': '2007'},\n",
       "  {'id': 14, 'start': 75, 'end': 76, 'text': ','},\n",
       "  {'id': 15, 'start': 77, 'end': 80, 'text': 'few'},\n",
       "  {'id': 16, 'start': 81, 'end': 87, 'text': 'people'},\n",
       "  {'id': 17, 'start': 88, 'end': 95, 'text': 'outside'},\n",
       "  {'id': 18, 'start': 96, 'end': 98, 'text': 'of'},\n",
       "  {'id': 19, 'start': 99, 'end': 102, 'text': 'the'},\n",
       "  {'id': 20, 'start': 103, 'end': 110, 'text': 'company'},\n",
       "  {'id': 21, 'start': 111, 'end': 115, 'text': 'took'},\n",
       "  {'id': 22, 'start': 116, 'end': 119, 'text': 'him'},\n",
       "  {'id': 23, 'start': 120, 'end': 129, 'text': 'seriously'},\n",
       "  {'id': 24, 'start': 129, 'end': 130, 'text': '.'}]}"
      ]
     },
     "execution_count": 34,
     "metadata": {},
     "output_type": "execute_result"
    }
   ],
   "source": [
    "tokens_json"
   ]
  },
  {
   "cell_type": "code",
   "execution_count": 6,
   "metadata": {},
   "outputs": [
    {
     "data": {
      "text/plain": [
       "'When Sebastian Thrun started working on self-driving cars at Google in 2007 few people outside of the company took him seriously .'"
      ]
     },
     "execution_count": 6,
     "metadata": {},
     "output_type": "execute_result"
    }
   ],
   "source": [
    "\" \".join(    [\"When\",\n",
    "    \"Sebastian\",\n",
    "    \"Thrun\",\n",
    "    \"started\",\n",
    "    \"working\",\n",
    "    \"on\",\n",
    "    \"self-driving\",\n",
    "    \"cars\",\n",
    "    \"at\",\n",
    "    \"Google\",\n",
    "    \"in\",\n",
    "    \"2007\",\n",
    "    \"few\",\n",
    "    \"people\",\n",
    "    \"outside\",\n",
    "    \"of\",\n",
    "    \"the\",\n",
    "    \"company\",\n",
    "    \"took\",\n",
    "    \"him\",\n",
    "    \"seriously\",\n",
    "    \".\"])"
   ]
  },
  {
   "cell_type": "code",
   "execution_count": 16,
   "metadata": {},
   "outputs": [
    {
     "data": {
      "text/plain": [
       "'When Sebastian Thrun started working on self-driving cars at Google in 2007, few people outside of the company took him seriously.'"
      ]
     },
     "execution_count": 16,
     "metadata": {},
     "output_type": "execute_result"
    }
   ],
   "source": [
    "tokens.text_with_ws"
   ]
  },
  {
   "cell_type": "code",
   "execution_count": 35,
   "metadata": {},
   "outputs": [],
   "source": [
    "x_list = []"
   ]
  },
  {
   "cell_type": "code",
   "execution_count": 36,
   "metadata": {},
   "outputs": [
    {
     "ename": "IndexError",
     "evalue": "list index out of range",
     "output_type": "error",
     "traceback": [
      "\u001b[0;31m---------------------------------------------------------------------------\u001b[0m",
      "\u001b[0;31mIndexError\u001b[0m                                Traceback (most recent call last)",
      "\u001b[0;32m<ipython-input-36-602ebaf562ed>\u001b[0m in \u001b[0;36m<module>\u001b[0;34m\u001b[0m\n\u001b[0;32m----> 1\u001b[0;31m \u001b[0mx_list\u001b[0m\u001b[0;34m[\u001b[0m\u001b[0;36m1\u001b[0m\u001b[0;34m]\u001b[0m\u001b[0;34m\u001b[0m\u001b[0;34m\u001b[0m\u001b[0m\n\u001b[0m",
      "\u001b[0;31mIndexError\u001b[0m: list index out of range"
     ]
    }
   ],
   "source": [
    "x_list[1]"
   ]
  },
  {
   "cell_type": "code",
   "execution_count": null,
   "metadata": {},
   "outputs": [],
   "source": []
  }
 ],
 "metadata": {
  "kernelspec": {
   "display_name": "Django Shell-Plus",
   "language": "python",
   "name": "django_extensions"
  },
  "language_info": {
   "codemirror_mode": {
    "name": "ipython",
    "version": 3
   },
   "file_extension": ".py",
   "mimetype": "text/x-python",
   "name": "python",
   "nbconvert_exporter": "python",
   "pygments_lexer": "ipython3",
   "version": "3.8.5"
  }
 },
 "nbformat": 4,
 "nbformat_minor": 4
}
